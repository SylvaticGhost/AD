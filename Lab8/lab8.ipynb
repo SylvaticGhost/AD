{
 "cells": [
  {
   "cell_type": "code",
   "id": "initial_id",
   "metadata": {
    "collapsed": true,
    "ExecuteTime": {
     "end_time": "2025-05-14T12:16:02.308928Z",
     "start_time": "2025-05-14T12:16:02.306360Z"
    }
   },
   "source": [
    "import pandas as pd\n",
    "import matplotlib.pyplot as plt\n",
    "from sklearn.preprocessing import StandardScaler\n",
    "from sklearn.decomposition import PCA\n",
    "import numpy as np"
   ],
   "outputs": [],
   "execution_count": 93
  },
  {
   "metadata": {},
   "cell_type": "markdown",
   "source": "## Дані",
   "id": "4510c3018c166a83"
  },
  {
   "metadata": {
    "ExecuteTime": {
     "end_time": "2025-05-14T12:16:02.375983Z",
     "start_time": "2025-05-14T12:16:02.336925Z"
    }
   },
   "cell_type": "code",
   "source": [
    "df = (pd.read_excel('../Lab5/data.xlsx', na_values='-').set_index('Country')\n",
    "      .apply(pd.to_numeric, errors='coerce').fillna(0).drop(columns=['All']))\n",
    "\n",
    "m = 2\n",
    "n = len(df)\n",
    "d = len(df.columns)\n",
    "print(f'Параметри: m={m}, n={n}, d={d}')\n",
    "\n",
    "df"
   ],
   "id": "3af82e56bff5f5cc",
   "outputs": [
    {
     "name": "stdout",
     "output_type": "stream",
     "text": [
      "Параметри: m=2, n=71, d=3\n"
     ]
    },
    {
     "data": {
      "text/plain": [
       "                  Work  OrgTour   Private\n",
       "Country                                  \n",
       "Албанія            0.0      0.0       4.0\n",
       "Азербайджан        0.0      0.0   16791.0\n",
       "Австрія          663.0  11639.0   84507.0\n",
       "Вірменія         158.0   1367.0   10908.0\n",
       "Бельгія           29.0      0.0   17458.0\n",
       "...                ...      ...       ...\n",
       "Македонія          0.0     12.0      33.0\n",
       "Єгипет           542.0  24864.0  375021.0\n",
       "Велика Британія    0.0      0.0   76590.0\n",
       "США                0.0      0.0   20688.0\n",
       "Узбекистан         0.0    201.0    4967.0\n",
       "\n",
       "[71 rows x 3 columns]"
      ],
      "text/html": [
       "<div>\n",
       "<style scoped>\n",
       "    .dataframe tbody tr th:only-of-type {\n",
       "        vertical-align: middle;\n",
       "    }\n",
       "\n",
       "    .dataframe tbody tr th {\n",
       "        vertical-align: top;\n",
       "    }\n",
       "\n",
       "    .dataframe thead th {\n",
       "        text-align: right;\n",
       "    }\n",
       "</style>\n",
       "<table border=\"1\" class=\"dataframe\">\n",
       "  <thead>\n",
       "    <tr style=\"text-align: right;\">\n",
       "      <th></th>\n",
       "      <th>Work</th>\n",
       "      <th>OrgTour</th>\n",
       "      <th>Private</th>\n",
       "    </tr>\n",
       "    <tr>\n",
       "      <th>Country</th>\n",
       "      <th></th>\n",
       "      <th></th>\n",
       "      <th></th>\n",
       "    </tr>\n",
       "  </thead>\n",
       "  <tbody>\n",
       "    <tr>\n",
       "      <th>Албанія</th>\n",
       "      <td>0.0</td>\n",
       "      <td>0.0</td>\n",
       "      <td>4.0</td>\n",
       "    </tr>\n",
       "    <tr>\n",
       "      <th>Азербайджан</th>\n",
       "      <td>0.0</td>\n",
       "      <td>0.0</td>\n",
       "      <td>16791.0</td>\n",
       "    </tr>\n",
       "    <tr>\n",
       "      <th>Австрія</th>\n",
       "      <td>663.0</td>\n",
       "      <td>11639.0</td>\n",
       "      <td>84507.0</td>\n",
       "    </tr>\n",
       "    <tr>\n",
       "      <th>Вірменія</th>\n",
       "      <td>158.0</td>\n",
       "      <td>1367.0</td>\n",
       "      <td>10908.0</td>\n",
       "    </tr>\n",
       "    <tr>\n",
       "      <th>Бельгія</th>\n",
       "      <td>29.0</td>\n",
       "      <td>0.0</td>\n",
       "      <td>17458.0</td>\n",
       "    </tr>\n",
       "    <tr>\n",
       "      <th>...</th>\n",
       "      <td>...</td>\n",
       "      <td>...</td>\n",
       "      <td>...</td>\n",
       "    </tr>\n",
       "    <tr>\n",
       "      <th>Македонія</th>\n",
       "      <td>0.0</td>\n",
       "      <td>12.0</td>\n",
       "      <td>33.0</td>\n",
       "    </tr>\n",
       "    <tr>\n",
       "      <th>Єгипет</th>\n",
       "      <td>542.0</td>\n",
       "      <td>24864.0</td>\n",
       "      <td>375021.0</td>\n",
       "    </tr>\n",
       "    <tr>\n",
       "      <th>Велика Британія</th>\n",
       "      <td>0.0</td>\n",
       "      <td>0.0</td>\n",
       "      <td>76590.0</td>\n",
       "    </tr>\n",
       "    <tr>\n",
       "      <th>США</th>\n",
       "      <td>0.0</td>\n",
       "      <td>0.0</td>\n",
       "      <td>20688.0</td>\n",
       "    </tr>\n",
       "    <tr>\n",
       "      <th>Узбекистан</th>\n",
       "      <td>0.0</td>\n",
       "      <td>201.0</td>\n",
       "      <td>4967.0</td>\n",
       "    </tr>\n",
       "  </tbody>\n",
       "</table>\n",
       "<p>71 rows × 3 columns</p>\n",
       "</div>"
      ]
     },
     "execution_count": 94,
     "metadata": {},
     "output_type": "execute_result"
    }
   ],
   "execution_count": 94
  },
  {
   "metadata": {},
   "cell_type": "markdown",
   "source": "### Реалізація PCA",
   "id": "61afaf0ad8cece12"
  },
  {
   "metadata": {},
   "cell_type": "markdown",
   "source": "### Нормування",
   "id": "3e9df35e2989183f"
  },
  {
   "metadata": {
    "ExecuteTime": {
     "end_time": "2025-05-14T12:16:02.409315Z",
     "start_time": "2025-05-14T12:16:02.402519Z"
    }
   },
   "cell_type": "code",
   "source": [
    "scaler = StandardScaler()\n",
    "X_scaled = scaler.fit_transform(df[df.columns])\n",
    "df = pd.DataFrame(X_scaled, columns=df.columns)\n",
    "df"
   ],
   "id": "f7b1d836340ea499",
   "outputs": [
    {
     "data": {
      "text/plain": [
       "        Work   OrgTour   Private\n",
       "0  -0.193683 -0.407912 -0.283424\n",
       "1  -0.193683 -0.407912 -0.268114\n",
       "2  -0.140279  1.264630 -0.206358\n",
       "3  -0.180956 -0.211472 -0.273480\n",
       "4  -0.191347 -0.407912 -0.267506\n",
       "..       ...       ...       ...\n",
       "66 -0.193683 -0.406188 -0.283397\n",
       "67 -0.150025  3.165083  0.058587\n",
       "68 -0.193683 -0.407912 -0.213579\n",
       "69 -0.193683 -0.407912 -0.264560\n",
       "70 -0.193683 -0.379028 -0.278898\n",
       "\n",
       "[71 rows x 3 columns]"
      ],
      "text/html": [
       "<div>\n",
       "<style scoped>\n",
       "    .dataframe tbody tr th:only-of-type {\n",
       "        vertical-align: middle;\n",
       "    }\n",
       "\n",
       "    .dataframe tbody tr th {\n",
       "        vertical-align: top;\n",
       "    }\n",
       "\n",
       "    .dataframe thead th {\n",
       "        text-align: right;\n",
       "    }\n",
       "</style>\n",
       "<table border=\"1\" class=\"dataframe\">\n",
       "  <thead>\n",
       "    <tr style=\"text-align: right;\">\n",
       "      <th></th>\n",
       "      <th>Work</th>\n",
       "      <th>OrgTour</th>\n",
       "      <th>Private</th>\n",
       "    </tr>\n",
       "  </thead>\n",
       "  <tbody>\n",
       "    <tr>\n",
       "      <th>0</th>\n",
       "      <td>-0.193683</td>\n",
       "      <td>-0.407912</td>\n",
       "      <td>-0.283424</td>\n",
       "    </tr>\n",
       "    <tr>\n",
       "      <th>1</th>\n",
       "      <td>-0.193683</td>\n",
       "      <td>-0.407912</td>\n",
       "      <td>-0.268114</td>\n",
       "    </tr>\n",
       "    <tr>\n",
       "      <th>2</th>\n",
       "      <td>-0.140279</td>\n",
       "      <td>1.264630</td>\n",
       "      <td>-0.206358</td>\n",
       "    </tr>\n",
       "    <tr>\n",
       "      <th>3</th>\n",
       "      <td>-0.180956</td>\n",
       "      <td>-0.211472</td>\n",
       "      <td>-0.273480</td>\n",
       "    </tr>\n",
       "    <tr>\n",
       "      <th>4</th>\n",
       "      <td>-0.191347</td>\n",
       "      <td>-0.407912</td>\n",
       "      <td>-0.267506</td>\n",
       "    </tr>\n",
       "    <tr>\n",
       "      <th>...</th>\n",
       "      <td>...</td>\n",
       "      <td>...</td>\n",
       "      <td>...</td>\n",
       "    </tr>\n",
       "    <tr>\n",
       "      <th>66</th>\n",
       "      <td>-0.193683</td>\n",
       "      <td>-0.406188</td>\n",
       "      <td>-0.283397</td>\n",
       "    </tr>\n",
       "    <tr>\n",
       "      <th>67</th>\n",
       "      <td>-0.150025</td>\n",
       "      <td>3.165083</td>\n",
       "      <td>0.058587</td>\n",
       "    </tr>\n",
       "    <tr>\n",
       "      <th>68</th>\n",
       "      <td>-0.193683</td>\n",
       "      <td>-0.407912</td>\n",
       "      <td>-0.213579</td>\n",
       "    </tr>\n",
       "    <tr>\n",
       "      <th>69</th>\n",
       "      <td>-0.193683</td>\n",
       "      <td>-0.407912</td>\n",
       "      <td>-0.264560</td>\n",
       "    </tr>\n",
       "    <tr>\n",
       "      <th>70</th>\n",
       "      <td>-0.193683</td>\n",
       "      <td>-0.379028</td>\n",
       "      <td>-0.278898</td>\n",
       "    </tr>\n",
       "  </tbody>\n",
       "</table>\n",
       "<p>71 rows × 3 columns</p>\n",
       "</div>"
      ]
     },
     "execution_count": 95,
     "metadata": {},
     "output_type": "execute_result"
    }
   ],
   "execution_count": 95
  },
  {
   "metadata": {},
   "cell_type": "markdown",
   "source": "### Кореляційна матриця",
   "id": "dc8a9f029661970a"
  },
  {
   "metadata": {
    "ExecuteTime": {
     "end_time": "2025-05-14T12:16:02.487299Z",
     "start_time": "2025-05-14T12:16:02.483433Z"
    }
   },
   "cell_type": "code",
   "source": "df.corr()",
   "id": "aec915ea093a4f9b",
   "outputs": [
    {
     "data": {
      "text/plain": [
       "             Work   OrgTour   Private\n",
       "Work     1.000000  0.322052  0.890656\n",
       "OrgTour  0.322052  1.000000  0.403613\n",
       "Private  0.890656  0.403613  1.000000"
      ],
      "text/html": [
       "<div>\n",
       "<style scoped>\n",
       "    .dataframe tbody tr th:only-of-type {\n",
       "        vertical-align: middle;\n",
       "    }\n",
       "\n",
       "    .dataframe tbody tr th {\n",
       "        vertical-align: top;\n",
       "    }\n",
       "\n",
       "    .dataframe thead th {\n",
       "        text-align: right;\n",
       "    }\n",
       "</style>\n",
       "<table border=\"1\" class=\"dataframe\">\n",
       "  <thead>\n",
       "    <tr style=\"text-align: right;\">\n",
       "      <th></th>\n",
       "      <th>Work</th>\n",
       "      <th>OrgTour</th>\n",
       "      <th>Private</th>\n",
       "    </tr>\n",
       "  </thead>\n",
       "  <tbody>\n",
       "    <tr>\n",
       "      <th>Work</th>\n",
       "      <td>1.000000</td>\n",
       "      <td>0.322052</td>\n",
       "      <td>0.890656</td>\n",
       "    </tr>\n",
       "    <tr>\n",
       "      <th>OrgTour</th>\n",
       "      <td>0.322052</td>\n",
       "      <td>1.000000</td>\n",
       "      <td>0.403613</td>\n",
       "    </tr>\n",
       "    <tr>\n",
       "      <th>Private</th>\n",
       "      <td>0.890656</td>\n",
       "      <td>0.403613</td>\n",
       "      <td>1.000000</td>\n",
       "    </tr>\n",
       "  </tbody>\n",
       "</table>\n",
       "</div>"
      ]
     },
     "execution_count": 96,
     "metadata": {},
     "output_type": "execute_result"
    }
   ],
   "execution_count": 96
  },
  {
   "metadata": {},
   "cell_type": "markdown",
   "source": "### Коваріаційна матриця",
   "id": "2599a548e5b27eff"
  },
  {
   "metadata": {
    "ExecuteTime": {
     "end_time": "2025-05-14T12:16:02.572690Z",
     "start_time": "2025-05-14T12:16:02.564323Z"
    }
   },
   "cell_type": "code",
   "source": "df.cov()",
   "id": "7e8791a195380606",
   "outputs": [
    {
     "data": {
      "text/plain": [
       "             Work   OrgTour   Private\n",
       "Work     1.014286  0.326653  0.903379\n",
       "OrgTour  0.326653  1.014286  0.409379\n",
       "Private  0.903379  0.409379  1.014286"
      ],
      "text/html": [
       "<div>\n",
       "<style scoped>\n",
       "    .dataframe tbody tr th:only-of-type {\n",
       "        vertical-align: middle;\n",
       "    }\n",
       "\n",
       "    .dataframe tbody tr th {\n",
       "        vertical-align: top;\n",
       "    }\n",
       "\n",
       "    .dataframe thead th {\n",
       "        text-align: right;\n",
       "    }\n",
       "</style>\n",
       "<table border=\"1\" class=\"dataframe\">\n",
       "  <thead>\n",
       "    <tr style=\"text-align: right;\">\n",
       "      <th></th>\n",
       "      <th>Work</th>\n",
       "      <th>OrgTour</th>\n",
       "      <th>Private</th>\n",
       "    </tr>\n",
       "  </thead>\n",
       "  <tbody>\n",
       "    <tr>\n",
       "      <th>Work</th>\n",
       "      <td>1.014286</td>\n",
       "      <td>0.326653</td>\n",
       "      <td>0.903379</td>\n",
       "    </tr>\n",
       "    <tr>\n",
       "      <th>OrgTour</th>\n",
       "      <td>0.326653</td>\n",
       "      <td>1.014286</td>\n",
       "      <td>0.409379</td>\n",
       "    </tr>\n",
       "    <tr>\n",
       "      <th>Private</th>\n",
       "      <td>0.903379</td>\n",
       "      <td>0.409379</td>\n",
       "      <td>1.014286</td>\n",
       "    </tr>\n",
       "  </tbody>\n",
       "</table>\n",
       "</div>"
      ]
     },
     "execution_count": 97,
     "metadata": {},
     "output_type": "execute_result"
    }
   ],
   "execution_count": 97
  },
  {
   "metadata": {},
   "cell_type": "markdown",
   "source": "### Стандартні відхилення",
   "id": "48c26c0418b5d6a2"
  },
  {
   "metadata": {
    "ExecuteTime": {
     "end_time": "2025-05-14T12:16:02.659067Z",
     "start_time": "2025-05-14T12:16:02.654188Z"
    }
   },
   "cell_type": "code",
   "source": "df.std()",
   "id": "c85a12f4b4142c19",
   "outputs": [
    {
     "data": {
      "text/plain": [
       "Work       1.007118\n",
       "OrgTour    1.007118\n",
       "Private    1.007118\n",
       "dtype: float64"
      ]
     },
     "execution_count": 98,
     "metadata": {},
     "output_type": "execute_result"
    }
   ],
   "execution_count": 98
  },
  {
   "metadata": {},
   "cell_type": "markdown",
   "source": "### Cередні значення",
   "id": "64a02c979888a020"
  },
  {
   "metadata": {
    "ExecuteTime": {
     "end_time": "2025-05-14T12:16:02.756988Z",
     "start_time": "2025-05-14T12:16:02.753248Z"
    }
   },
   "cell_type": "code",
   "source": "df.mean()",
   "id": "824745686be8d423",
   "outputs": [
    {
     "data": {
      "text/plain": [
       "Work      -2.345542e-18\n",
       "OrgTour   -4.143790e-17\n",
       "Private    2.345542e-18\n",
       "dtype: float64"
      ]
     },
     "execution_count": 99,
     "metadata": {},
     "output_type": "execute_result"
    }
   ],
   "execution_count": 99
  },
  {
   "metadata": {},
   "cell_type": "markdown",
   "source": "### Розрахунок головних компонент",
   "id": "b151396c22a02462"
  },
  {
   "metadata": {
    "ExecuteTime": {
     "end_time": "2025-05-14T12:16:02.903463Z",
     "start_time": "2025-05-14T12:16:02.876404Z"
    }
   },
   "cell_type": "code",
   "source": [
    "pca = PCA(n_components=2)\n",
    "X_pca = pca.fit_transform(df)"
   ],
   "id": "a95140110e18ec9",
   "outputs": [],
   "execution_count": 100
  },
  {
   "metadata": {},
   "cell_type": "markdown",
   "source": "### Матриця проекцій",
   "id": "3a2f54f63f22f9cd"
  },
  {
   "metadata": {
    "ExecuteTime": {
     "end_time": "2025-05-14T12:16:02.992520Z",
     "start_time": "2025-05-14T12:16:02.985863Z"
    }
   },
   "cell_type": "code",
   "source": [
    "df_pca = pd.DataFrame(X_pca, columns=['PC1', 'PC2'])\n",
    "df_pca"
   ],
   "id": "df32d53449f26a18",
   "outputs": [
    {
     "data": {
      "text/plain": [
       "         PC1       PC2\n",
       "0  -0.477068 -0.234719\n",
       "1  -0.467093 -0.238356\n",
       "2   0.301894  1.244244\n",
       "3  -0.380900 -0.063483\n",
       "4  -0.465214 -0.239317\n",
       "..       ...       ...\n",
       "66 -0.476334 -0.233163\n",
       "67  1.257869  2.907215\n",
       "68 -0.431560 -0.251310\n",
       "69 -0.464777 -0.239200\n",
       "70 -0.462119 -0.209615\n",
       "\n",
       "[71 rows x 2 columns]"
      ],
      "text/html": [
       "<div>\n",
       "<style scoped>\n",
       "    .dataframe tbody tr th:only-of-type {\n",
       "        vertical-align: middle;\n",
       "    }\n",
       "\n",
       "    .dataframe tbody tr th {\n",
       "        vertical-align: top;\n",
       "    }\n",
       "\n",
       "    .dataframe thead th {\n",
       "        text-align: right;\n",
       "    }\n",
       "</style>\n",
       "<table border=\"1\" class=\"dataframe\">\n",
       "  <thead>\n",
       "    <tr style=\"text-align: right;\">\n",
       "      <th></th>\n",
       "      <th>PC1</th>\n",
       "      <th>PC2</th>\n",
       "    </tr>\n",
       "  </thead>\n",
       "  <tbody>\n",
       "    <tr>\n",
       "      <th>0</th>\n",
       "      <td>-0.477068</td>\n",
       "      <td>-0.234719</td>\n",
       "    </tr>\n",
       "    <tr>\n",
       "      <th>1</th>\n",
       "      <td>-0.467093</td>\n",
       "      <td>-0.238356</td>\n",
       "    </tr>\n",
       "    <tr>\n",
       "      <th>2</th>\n",
       "      <td>0.301894</td>\n",
       "      <td>1.244244</td>\n",
       "    </tr>\n",
       "    <tr>\n",
       "      <th>3</th>\n",
       "      <td>-0.380900</td>\n",
       "      <td>-0.063483</td>\n",
       "    </tr>\n",
       "    <tr>\n",
       "      <th>4</th>\n",
       "      <td>-0.465214</td>\n",
       "      <td>-0.239317</td>\n",
       "    </tr>\n",
       "    <tr>\n",
       "      <th>...</th>\n",
       "      <td>...</td>\n",
       "      <td>...</td>\n",
       "    </tr>\n",
       "    <tr>\n",
       "      <th>66</th>\n",
       "      <td>-0.476334</td>\n",
       "      <td>-0.233163</td>\n",
       "    </tr>\n",
       "    <tr>\n",
       "      <th>67</th>\n",
       "      <td>1.257869</td>\n",
       "      <td>2.907215</td>\n",
       "    </tr>\n",
       "    <tr>\n",
       "      <th>68</th>\n",
       "      <td>-0.431560</td>\n",
       "      <td>-0.251310</td>\n",
       "    </tr>\n",
       "    <tr>\n",
       "      <th>69</th>\n",
       "      <td>-0.464777</td>\n",
       "      <td>-0.239200</td>\n",
       "    </tr>\n",
       "    <tr>\n",
       "      <th>70</th>\n",
       "      <td>-0.462119</td>\n",
       "      <td>-0.209615</td>\n",
       "    </tr>\n",
       "  </tbody>\n",
       "</table>\n",
       "<p>71 rows × 2 columns</p>\n",
       "</div>"
      ]
     },
     "execution_count": 101,
     "metadata": {},
     "output_type": "execute_result"
    }
   ],
   "execution_count": 101
  },
  {
   "metadata": {},
   "cell_type": "markdown",
   "source": "### Матриця навантажень",
   "id": "850ad79d958382e8"
  },
  {
   "metadata": {
    "ExecuteTime": {
     "end_time": "2025-05-14T12:16:03.063907Z",
     "start_time": "2025-05-14T12:16:03.059135Z"
    }
   },
   "cell_type": "code",
   "source": [
    "P = pca.components_.T\n",
    "loadings = pd.DataFrame(P, index=df.columns, columns=['PC1', 'PC2'])\n",
    "loadings"
   ],
   "id": "1888f70f3cd6a622",
   "outputs": [
    {
     "data": {
      "text/plain": [
       "              PC1       PC2\n",
       "Work     0.634737 -0.349411\n",
       "OrgTour  0.415447  0.906362\n",
       "Private  0.651547 -0.237529"
      ],
      "text/html": [
       "<div>\n",
       "<style scoped>\n",
       "    .dataframe tbody tr th:only-of-type {\n",
       "        vertical-align: middle;\n",
       "    }\n",
       "\n",
       "    .dataframe tbody tr th {\n",
       "        vertical-align: top;\n",
       "    }\n",
       "\n",
       "    .dataframe thead th {\n",
       "        text-align: right;\n",
       "    }\n",
       "</style>\n",
       "<table border=\"1\" class=\"dataframe\">\n",
       "  <thead>\n",
       "    <tr style=\"text-align: right;\">\n",
       "      <th></th>\n",
       "      <th>PC1</th>\n",
       "      <th>PC2</th>\n",
       "    </tr>\n",
       "  </thead>\n",
       "  <tbody>\n",
       "    <tr>\n",
       "      <th>Work</th>\n",
       "      <td>0.634737</td>\n",
       "      <td>-0.349411</td>\n",
       "    </tr>\n",
       "    <tr>\n",
       "      <th>OrgTour</th>\n",
       "      <td>0.415447</td>\n",
       "      <td>0.906362</td>\n",
       "    </tr>\n",
       "    <tr>\n",
       "      <th>Private</th>\n",
       "      <td>0.651547</td>\n",
       "      <td>-0.237529</td>\n",
       "    </tr>\n",
       "  </tbody>\n",
       "</table>\n",
       "</div>"
      ]
     },
     "execution_count": 102,
     "metadata": {},
     "output_type": "execute_result"
    }
   ],
   "execution_count": 102
  },
  {
   "metadata": {},
   "cell_type": "markdown",
   "source": "### Відновлені дані",
   "id": "af81920bd56003fe"
  },
  {
   "metadata": {
    "ExecuteTime": {
     "end_time": "2025-05-14T12:16:03.145459Z",
     "start_time": "2025-05-14T12:16:03.139730Z"
    }
   },
   "cell_type": "code",
   "source": [
    "X_approx = X_pca @ P.T\n",
    "df_approx = pd.DataFrame(X_approx, columns=df.columns)\n",
    "df_approx"
   ],
   "id": "dfdb476c69a260c6",
   "outputs": [
    {
     "data": {
      "text/plain": [
       "        Work   OrgTour   Private\n",
       "0  -0.220799 -0.410937 -0.255079\n",
       "1  -0.213197 -0.410089 -0.247716\n",
       "2  -0.243129  1.253156 -0.098846\n",
       "3  -0.219590 -0.215782 -0.233095\n",
       "4  -0.211668 -0.410179 -0.246264\n",
       "..       ...       ...       ...\n",
       "66 -0.220877 -0.409221 -0.254971\n",
       "67 -0.217397  3.157567  0.129013\n",
       "68 -0.186117 -0.407068 -0.221488\n",
       "69 -0.211432 -0.409892 -0.246007\n",
       "70 -0.220082 -0.381973 -0.251302\n",
       "\n",
       "[71 rows x 3 columns]"
      ],
      "text/html": [
       "<div>\n",
       "<style scoped>\n",
       "    .dataframe tbody tr th:only-of-type {\n",
       "        vertical-align: middle;\n",
       "    }\n",
       "\n",
       "    .dataframe tbody tr th {\n",
       "        vertical-align: top;\n",
       "    }\n",
       "\n",
       "    .dataframe thead th {\n",
       "        text-align: right;\n",
       "    }\n",
       "</style>\n",
       "<table border=\"1\" class=\"dataframe\">\n",
       "  <thead>\n",
       "    <tr style=\"text-align: right;\">\n",
       "      <th></th>\n",
       "      <th>Work</th>\n",
       "      <th>OrgTour</th>\n",
       "      <th>Private</th>\n",
       "    </tr>\n",
       "  </thead>\n",
       "  <tbody>\n",
       "    <tr>\n",
       "      <th>0</th>\n",
       "      <td>-0.220799</td>\n",
       "      <td>-0.410937</td>\n",
       "      <td>-0.255079</td>\n",
       "    </tr>\n",
       "    <tr>\n",
       "      <th>1</th>\n",
       "      <td>-0.213197</td>\n",
       "      <td>-0.410089</td>\n",
       "      <td>-0.247716</td>\n",
       "    </tr>\n",
       "    <tr>\n",
       "      <th>2</th>\n",
       "      <td>-0.243129</td>\n",
       "      <td>1.253156</td>\n",
       "      <td>-0.098846</td>\n",
       "    </tr>\n",
       "    <tr>\n",
       "      <th>3</th>\n",
       "      <td>-0.219590</td>\n",
       "      <td>-0.215782</td>\n",
       "      <td>-0.233095</td>\n",
       "    </tr>\n",
       "    <tr>\n",
       "      <th>4</th>\n",
       "      <td>-0.211668</td>\n",
       "      <td>-0.410179</td>\n",
       "      <td>-0.246264</td>\n",
       "    </tr>\n",
       "    <tr>\n",
       "      <th>...</th>\n",
       "      <td>...</td>\n",
       "      <td>...</td>\n",
       "      <td>...</td>\n",
       "    </tr>\n",
       "    <tr>\n",
       "      <th>66</th>\n",
       "      <td>-0.220877</td>\n",
       "      <td>-0.409221</td>\n",
       "      <td>-0.254971</td>\n",
       "    </tr>\n",
       "    <tr>\n",
       "      <th>67</th>\n",
       "      <td>-0.217397</td>\n",
       "      <td>3.157567</td>\n",
       "      <td>0.129013</td>\n",
       "    </tr>\n",
       "    <tr>\n",
       "      <th>68</th>\n",
       "      <td>-0.186117</td>\n",
       "      <td>-0.407068</td>\n",
       "      <td>-0.221488</td>\n",
       "    </tr>\n",
       "    <tr>\n",
       "      <th>69</th>\n",
       "      <td>-0.211432</td>\n",
       "      <td>-0.409892</td>\n",
       "      <td>-0.246007</td>\n",
       "    </tr>\n",
       "    <tr>\n",
       "      <th>70</th>\n",
       "      <td>-0.220082</td>\n",
       "      <td>-0.381973</td>\n",
       "      <td>-0.251302</td>\n",
       "    </tr>\n",
       "  </tbody>\n",
       "</table>\n",
       "<p>71 rows × 3 columns</p>\n",
       "</div>"
      ]
     },
     "execution_count": 103,
     "metadata": {},
     "output_type": "execute_result"
    }
   ],
   "execution_count": 103
  },
  {
   "metadata": {},
   "cell_type": "markdown",
   "source": "### Матриця помилок",
   "id": "6c6a6249c25e5aeb"
  },
  {
   "metadata": {
    "ExecuteTime": {
     "end_time": "2025-05-14T12:16:03.242719Z",
     "start_time": "2025-05-14T12:16:03.233951Z"
    }
   },
   "cell_type": "code",
   "source": [
    "E = df.values - X_approx\n",
    "df_e = pd.DataFrame(E, columns=df.columns)\n",
    "df_e"
   ],
   "id": "6f392472cd3ae9ee",
   "outputs": [
    {
     "data": {
      "text/plain": [
       "        Work   OrgTour   Private\n",
       "0   0.027115  0.003025 -0.028345\n",
       "1   0.019513  0.002177 -0.020398\n",
       "2   0.102850  0.011474 -0.107513\n",
       "3   0.038633  0.004310 -0.040385\n",
       "4   0.020321  0.002267 -0.021242\n",
       "..       ...       ...       ...\n",
       "66  0.027194  0.003034 -0.028427\n",
       "67  0.067372  0.007516 -0.070426\n",
       "68 -0.007567 -0.000844  0.007910\n",
       "69  0.017749  0.001980 -0.018553\n",
       "70  0.026399  0.002945 -0.027595\n",
       "\n",
       "[71 rows x 3 columns]"
      ],
      "text/html": [
       "<div>\n",
       "<style scoped>\n",
       "    .dataframe tbody tr th:only-of-type {\n",
       "        vertical-align: middle;\n",
       "    }\n",
       "\n",
       "    .dataframe tbody tr th {\n",
       "        vertical-align: top;\n",
       "    }\n",
       "\n",
       "    .dataframe thead th {\n",
       "        text-align: right;\n",
       "    }\n",
       "</style>\n",
       "<table border=\"1\" class=\"dataframe\">\n",
       "  <thead>\n",
       "    <tr style=\"text-align: right;\">\n",
       "      <th></th>\n",
       "      <th>Work</th>\n",
       "      <th>OrgTour</th>\n",
       "      <th>Private</th>\n",
       "    </tr>\n",
       "  </thead>\n",
       "  <tbody>\n",
       "    <tr>\n",
       "      <th>0</th>\n",
       "      <td>0.027115</td>\n",
       "      <td>0.003025</td>\n",
       "      <td>-0.028345</td>\n",
       "    </tr>\n",
       "    <tr>\n",
       "      <th>1</th>\n",
       "      <td>0.019513</td>\n",
       "      <td>0.002177</td>\n",
       "      <td>-0.020398</td>\n",
       "    </tr>\n",
       "    <tr>\n",
       "      <th>2</th>\n",
       "      <td>0.102850</td>\n",
       "      <td>0.011474</td>\n",
       "      <td>-0.107513</td>\n",
       "    </tr>\n",
       "    <tr>\n",
       "      <th>3</th>\n",
       "      <td>0.038633</td>\n",
       "      <td>0.004310</td>\n",
       "      <td>-0.040385</td>\n",
       "    </tr>\n",
       "    <tr>\n",
       "      <th>4</th>\n",
       "      <td>0.020321</td>\n",
       "      <td>0.002267</td>\n",
       "      <td>-0.021242</td>\n",
       "    </tr>\n",
       "    <tr>\n",
       "      <th>...</th>\n",
       "      <td>...</td>\n",
       "      <td>...</td>\n",
       "      <td>...</td>\n",
       "    </tr>\n",
       "    <tr>\n",
       "      <th>66</th>\n",
       "      <td>0.027194</td>\n",
       "      <td>0.003034</td>\n",
       "      <td>-0.028427</td>\n",
       "    </tr>\n",
       "    <tr>\n",
       "      <th>67</th>\n",
       "      <td>0.067372</td>\n",
       "      <td>0.007516</td>\n",
       "      <td>-0.070426</td>\n",
       "    </tr>\n",
       "    <tr>\n",
       "      <th>68</th>\n",
       "      <td>-0.007567</td>\n",
       "      <td>-0.000844</td>\n",
       "      <td>0.007910</td>\n",
       "    </tr>\n",
       "    <tr>\n",
       "      <th>69</th>\n",
       "      <td>0.017749</td>\n",
       "      <td>0.001980</td>\n",
       "      <td>-0.018553</td>\n",
       "    </tr>\n",
       "    <tr>\n",
       "      <th>70</th>\n",
       "      <td>0.026399</td>\n",
       "      <td>0.002945</td>\n",
       "      <td>-0.027595</td>\n",
       "    </tr>\n",
       "  </tbody>\n",
       "</table>\n",
       "<p>71 rows × 3 columns</p>\n",
       "</div>"
      ]
     },
     "execution_count": 104,
     "metadata": {},
     "output_type": "execute_result"
    }
   ],
   "execution_count": 104
  },
  {
   "metadata": {},
   "cell_type": "markdown",
   "source": "### Перевірка рівності сум вибіркових дисперсій",
   "id": "8769b2b3794c05ab"
  },
  {
   "metadata": {
    "ExecuteTime": {
     "end_time": "2025-05-14T12:16:03.364629Z",
     "start_time": "2025-05-14T12:16:03.357422Z"
    }
   },
   "cell_type": "code",
   "source": [
    "original_variance_sum = df.var(ddof=0).sum()\n",
    "print(f'Сума дисперсій початкових ознак: {original_variance_sum:.4f}')"
   ],
   "id": "e69bcdacf381bb62",
   "outputs": [
    {
     "name": "stdout",
     "output_type": "stream",
     "text": [
      "Сума дисперсій початкових ознак: 3.0000\n"
     ]
    }
   ],
   "execution_count": 105
  },
  {
   "metadata": {
    "ExecuteTime": {
     "end_time": "2025-05-14T12:16:03.483794Z",
     "start_time": "2025-05-14T12:16:03.481361Z"
    }
   },
   "cell_type": "code",
   "source": [
    "pc_variances = np.var(X_pca, axis=0, ddof=0)\n",
    "projected_variance_sum = pc_variances.sum()\n",
    "print(f'Сума дисперсій головних компонент: {projected_variance_sum:.4f}')"
   ],
   "id": "840258db1e1361eb",
   "outputs": [
    {
     "name": "stdout",
     "output_type": "stream",
     "text": [
      "Сума дисперсій головних компонент: 2.8951\n"
     ]
    }
   ],
   "execution_count": 106
  },
  {
   "metadata": {},
   "cell_type": "markdown",
   "source": "### Відносна частка розкиду",
   "id": "65d257c5c43e342d"
  },
  {
   "metadata": {
    "ExecuteTime": {
     "end_time": "2025-05-14T12:16:03.546264Z",
     "start_time": "2025-05-14T12:16:03.543570Z"
    }
   },
   "cell_type": "code",
   "source": [
    "print(\"Частка дисперсії для кожної головної компоненти:\")\n",
    "for i, var in enumerate(pca.explained_variance_ratio_):\n",
    "    print(f\"PC{i+1}: {var:.4f}\")\n",
    "print(f'Загальна частка розкиду (PC1 + PC2): {np.sum(pca.explained_variance_ratio_):.4f}')"
   ],
   "id": "66a5006888ff4ed0",
   "outputs": [
    {
     "name": "stdout",
     "output_type": "stream",
     "text": [
      "Частка дисперсії для кожної головної компоненти:\n",
      "PC1: 0.7083\n",
      "PC2: 0.2567\n",
      "Загальна частка розкиду (PC1 + PC2): 0.9650\n"
     ]
    }
   ],
   "execution_count": 107
  },
  {
   "metadata": {},
   "cell_type": "markdown",
   "source": "### Матриця коваріації проекцій",
   "id": "203c8cd2bd51d555"
  },
  {
   "metadata": {
    "ExecuteTime": {
     "end_time": "2025-05-14T12:16:03.579850Z",
     "start_time": "2025-05-14T12:16:03.575765Z"
    }
   },
   "cell_type": "code",
   "source": [
    "cov_matrix_pca = np.cov(X_pca.T)\n",
    "df_cov = pd.DataFrame(cov_matrix_pca, columns=['PC1', 'PC2'], index=['PC1', 'PC2'])\n",
    "df_cov"
   ],
   "id": "71e5cb6dd656f6ca",
   "outputs": [
    {
     "data": {
      "text/plain": [
       "              PC1           PC2\n",
       "PC1  2.155390e+00  2.791418e-16\n",
       "PC2  2.791418e-16  7.810727e-01"
      ],
      "text/html": [
       "<div>\n",
       "<style scoped>\n",
       "    .dataframe tbody tr th:only-of-type {\n",
       "        vertical-align: middle;\n",
       "    }\n",
       "\n",
       "    .dataframe tbody tr th {\n",
       "        vertical-align: top;\n",
       "    }\n",
       "\n",
       "    .dataframe thead th {\n",
       "        text-align: right;\n",
       "    }\n",
       "</style>\n",
       "<table border=\"1\" class=\"dataframe\">\n",
       "  <thead>\n",
       "    <tr style=\"text-align: right;\">\n",
       "      <th></th>\n",
       "      <th>PC1</th>\n",
       "      <th>PC2</th>\n",
       "    </tr>\n",
       "  </thead>\n",
       "  <tbody>\n",
       "    <tr>\n",
       "      <th>PC1</th>\n",
       "      <td>2.155390e+00</td>\n",
       "      <td>2.791418e-16</td>\n",
       "    </tr>\n",
       "    <tr>\n",
       "      <th>PC2</th>\n",
       "      <td>2.791418e-16</td>\n",
       "      <td>7.810727e-01</td>\n",
       "    </tr>\n",
       "  </tbody>\n",
       "</table>\n",
       "</div>"
      ]
     },
     "execution_count": 108,
     "metadata": {},
     "output_type": "execute_result"
    }
   ],
   "execution_count": 108
  },
  {
   "metadata": {},
   "cell_type": "markdown",
   "source": "### Діаграма розсіювання для PC1 і PC2",
   "id": "d825ffa18c99853b"
  },
  {
   "metadata": {
    "ExecuteTime": {
     "end_time": "2025-05-14T12:16:03.698879Z",
     "start_time": "2025-05-14T12:16:03.613470Z"
    }
   },
   "cell_type": "code",
   "source": [
    "plt.figure(figsize=(8, 6))\n",
    "plt.scatter(df_pca['PC1'], df_pca['PC2'], alpha=0.7, edgecolors='k')\n",
    "plt.xlabel('Головна компонента 1 (PC1)')\n",
    "plt.ylabel('Головна компонента 2 (PC2)')\n",
    "plt.title('Діаграма розсіювання перших двох головних компонент')\n",
    "plt.grid(True)\n",
    "plt.show()"
   ],
   "id": "21f75bfb6af518f9",
   "outputs": [
    {
     "data": {
      "text/plain": [
       "<Figure size 800x600 with 1 Axes>"
      ],
      "image/png": "[encoded data removed]"
     },
     "metadata": {},
     "output_type": "display_data"
    }
   ],
   "execution_count": 109
  },
  {
   "metadata": {},
   "cell_type": "markdown",
   "source": "### Інтерпретація головних компонент",
   "id": "97e602b2d55116ef"
  },
  {
   "metadata": {
    "ExecuteTime": {
     "end_time": "2025-05-14T12:16:03.731881Z",
     "start_time": "2025-05-14T12:16:03.728449Z"
    }
   },
   "cell_type": "code",
   "source": "loadings",
   "id": "da50072b5149bc6",
   "outputs": [
    {
     "data": {
      "text/plain": [
       "              PC1       PC2\n",
       "Work     0.634737 -0.349411\n",
       "OrgTour  0.415447  0.906362\n",
       "Private  0.651547 -0.237529"
      ],
      "text/html": [
       "<div>\n",
       "<style scoped>\n",
       "    .dataframe tbody tr th:only-of-type {\n",
       "        vertical-align: middle;\n",
       "    }\n",
       "\n",
       "    .dataframe tbody tr th {\n",
       "        vertical-align: top;\n",
       "    }\n",
       "\n",
       "    .dataframe thead th {\n",
       "        text-align: right;\n",
       "    }\n",
       "</style>\n",
       "<table border=\"1\" class=\"dataframe\">\n",
       "  <thead>\n",
       "    <tr style=\"text-align: right;\">\n",
       "      <th></th>\n",
       "      <th>PC1</th>\n",
       "      <th>PC2</th>\n",
       "    </tr>\n",
       "  </thead>\n",
       "  <tbody>\n",
       "    <tr>\n",
       "      <th>Work</th>\n",
       "      <td>0.634737</td>\n",
       "      <td>-0.349411</td>\n",
       "    </tr>\n",
       "    <tr>\n",
       "      <th>OrgTour</th>\n",
       "      <td>0.415447</td>\n",
       "      <td>0.906362</td>\n",
       "    </tr>\n",
       "    <tr>\n",
       "      <th>Private</th>\n",
       "      <td>0.651547</td>\n",
       "      <td>-0.237529</td>\n",
       "    </tr>\n",
       "  </tbody>\n",
       "</table>\n",
       "</div>"
      ]
     },
     "execution_count": 110,
     "metadata": {},
     "output_type": "execute_result"
    }
   ],
   "execution_count": 110
  },
  {
   "metadata": {},
   "cell_type": "markdown",
   "source": [
    "* PC1: Відображає загальну кількість поїздок, в основному робочі та приватні\n",
    "* PC2: Відображає рівень організованих"
   ],
   "id": "cb718e31ff9ee4be"
  },
  {
   "metadata": {
    "ExecuteTime": {
     "end_time": "2025-05-14T12:16:03.878669Z",
     "start_time": "2025-05-14T12:16:03.877396Z"
    }
   },
   "cell_type": "code",
   "source": "",
   "id": "dcee31f0ad61fc76",
   "outputs": [],
   "execution_count": null
  }
 ],
 "metadata": {
  "kernelspec": {
   "display_name": "Python 3",
   "language": "python",
   "name": "python3"
  },
  "language_info": {
   "codemirror_mode": {
    "name": "ipython",
    "version": 2
   },
   "file_extension": ".py",
   "mimetype": "text/x-python",
   "name": "python",
   "nbconvert_exporter": "python",
   "pygments_lexer": "ipython2",
   "version": "2.7.6"
  }
 },
 "nbformat": 4,
 "nbformat_minor": 5
}
